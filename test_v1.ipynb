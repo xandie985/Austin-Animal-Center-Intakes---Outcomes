{
 "cells": [
  {
   "attachments": {},
   "cell_type": "markdown",
   "metadata": {},
   "source": [
    "* Name: Sandeep Kumar Kushwaha\n",
    "* Email: sandeepkumar998855@gmail.com\n",
    "* LinkedIn: https://www.linkedin.com/in/xandie985/"
   ]
  },
  {
   "attachments": {},
   "cell_type": "markdown",
   "metadata": {},
   "source": [
    "## All you need is love… And a dog!\n",
    "Here we are going to build a classifier to predict whether an animal from an animal shelter will be adopted or not. You will be working with the following features:\n",
    "\n",
    "- animal_type: Type of animal. May be one of 'cat', 'dog', 'bird', etc.\n",
    "- intake_year: Year of intake\n",
    "- intake_condition: The intake condition of the animal. Can be one of 'normal', 'injured', 'sick', etc.\n",
    "- intake_number: The intake number denoting the number of occurrences the animal has been brought into the shelter. Values higher than 1 indicate the animal has been taken into the shelter on more than one occasion.\n",
    "- intake_type: The type of intake, for example, 'stray', 'owner surrender', etc.\n",
    "- sex_upon_intake: The gender of the animal and if it has been spayed or neutered at the time of intake\n",
    "- age_upon_intake_(years): The age of the animal upon intake represented in years\n",
    "- time_in_shelter_days: Numeric value denoting the number of days the animal remained at the shelter from intake to outcome.\n",
    "- sex_upon_outcome: The gender of the animal and if it has been spayed or neutered at time of outcome\n",
    "- age_upon_outcome_(years): The age of the animal upon outcome represented in years\n",
    "- outcome_type: The outcome type. Can be one of ‘adopted’, ‘transferred’, etc.\n",
    "\n",
    "\n",
    "A) Load the dataset and perform the standard steps you would do in any data science project, e.g: data exploration, data cleaning, preprocessing etc. Split the data into a training set (80%) and a test set (20%). Pair each feature vector with the corresponding label, i.e., whether the outcome_type is adoption or not. \n",
    "\n",
    "B) Train a random forest. Use 3-fold cross-validation on the training set to fine-tune the parameters of the classifier using a grid search on the number of estimators \"n_estimators\" and the max depth of the trees \"max_depth\". For the chosen parameters, estimate the performance of your classifier on the test set by presenting the confusion matrix, the train and test accuracies, and the 10 most important features.\n",
    "\n",
    "Explain each of your steps and discuss the results."
   ]
  },
  {
   "cell_type": "code",
   "execution_count": 315,
   "metadata": {},
   "outputs": [],
   "source": [
    "import pandas as pd\n",
    "import numpy as np\n",
    "from sklearn.model_selection import train_test_split\n",
    "from sklearn.model_selection import GridSearchCV, KFold\n",
    "from sklearn.ensemble import RandomForestClassifier\n",
    "from sklearn.metrics import confusion_matrix, accuracy_score\n",
    "from sklearn.preprocessing import StandardScaler\n",
    "\n",
    "from tabulate import tabulate\n",
    "import matplotlib.pyplot as plt\n",
    "from sklearn.metrics import plot_confusion_matrix\n",
    "from sklearn.metrics import classification_report\n",
    "import seaborn as sns"
   ]
  },
  {
   "cell_type": "code",
   "execution_count": null,
   "metadata": {},
   "outputs": [],
   "source": [
    "!pip install imblearn\n",
    "from imblearn.over_sampling import SMOTE"
   ]
  },
  {
   "cell_type": "code",
   "execution_count": 238,
   "metadata": {},
   "outputs": [],
   "source": [
    "df = pd.read_csv('aac_intakes_outcomes.csv')"
   ]
  },
  {
   "cell_type": "code",
   "execution_count": 239,
   "metadata": {},
   "outputs": [
    {
     "name": "stdout",
     "output_type": "stream",
     "text": [
      "Index(['age_upon_outcome', 'animal_id_outcome', 'date_of_birth',\n",
      "       'outcome_subtype', 'outcome_type', 'sex_upon_outcome',\n",
      "       'age_upon_outcome_(days)', 'age_upon_outcome_(years)',\n",
      "       'age_upon_outcome_age_group', 'outcome_datetime', 'outcome_month',\n",
      "       'outcome_year', 'outcome_monthyear', 'outcome_weekday', 'outcome_hour',\n",
      "       'outcome_number', 'dob_year', 'dob_month', 'dob_monthyear',\n",
      "       'age_upon_intake', 'animal_id_intake', 'animal_type', 'breed', 'color',\n",
      "       'found_location', 'intake_condition', 'intake_type', 'sex_upon_intake',\n",
      "       'count', 'age_upon_intake_(days)', 'age_upon_intake_(years)',\n",
      "       'age_upon_intake_age_group', 'intake_datetime', 'intake_month',\n",
      "       'intake_year', 'intake_monthyear', 'intake_weekday', 'intake_hour',\n",
      "       'intake_number', 'time_in_shelter', 'time_in_shelter_days'],\n",
      "      dtype='object')\n"
     ]
    }
   ],
   "source": [
    "print(df.columns)"
   ]
  },
  {
   "attachments": {},
   "cell_type": "markdown",
   "metadata": {},
   "source": [
    "From the above column headers, we can move forward to deal with the 'outcome_type' as out main target. "
   ]
  },
  {
   "attachments": {},
   "cell_type": "markdown",
   "metadata": {},
   "source": [
    "## Considering relevant columns only"
   ]
  },
  {
   "cell_type": "code",
   "execution_count": 240,
   "metadata": {},
   "outputs": [
    {
     "name": "stdout",
     "output_type": "stream",
     "text": [
      "+----+---------------+---------------+--------------------+-----------------+-----------------+-------------------+---------------------------+------------------------+--------------------+----------------------------+-----------------+\n",
      "|    | animal_type   |   intake_year | intake_condition   |   intake_number | intake_type     | sex_upon_intake   |   age_upon_intake_(years) |   time_in_shelter_days | sex_upon_outcome   |   age_upon_outcome_(years) | outcome_type    |\n",
      "|----+---------------+---------------+--------------------+-----------------+-----------------+-------------------+---------------------------+------------------------+--------------------+----------------------------+-----------------|\n",
      "|  0 | Dog           |          2017 | Normal             |               1 | Stray           | Neutered Male     |                        10 |               0.588194 | Neutered Male      |                         10 | Return to Owner |\n",
      "|  1 | Dog           |          2014 | Normal             |               2 | Public Assist   | Neutered Male     |                         7 |               1.25972  | Neutered Male      |                          7 | Return to Owner |\n",
      "|  2 | Dog           |          2014 | Normal             |               3 | Public Assist   | Neutered Male     |                         6 |               1.11389  | Neutered Male      |                          6 | Return to Owner |\n",
      "|  3 | Dog           |          2014 | Normal             |               1 | Owner Surrender | Neutered Male     |                        10 |               4.97014  | Neutered Male      |                         10 | Transfer        |\n",
      "|  4 | Dog           |          2013 | Injured            |               1 | Public Assist   | Neutered Male     |                        16 |               0.119444 | Neutered Male      |                         16 | Return to Owner |\n",
      "+----+---------------+---------------+--------------------+-----------------+-----------------+-------------------+---------------------------+------------------------+--------------------+----------------------------+-----------------+\n"
     ]
    }
   ],
   "source": [
    "relevant_cols = ['animal_type', 'intake_year', 'intake_condition', 'intake_number', 'intake_type', 'sex_upon_intake', 'age_upon_intake_(years)', 'time_in_shelter_days', 'sex_upon_outcome', 'age_upon_outcome_(years)', 'outcome_type']\n",
    "df = df[relevant_cols]\n",
    "print(tabulate(df.head(), headers=df.columns, tablefmt='psql'))"
   ]
  },
  {
   "cell_type": "code",
   "execution_count": 241,
   "metadata": {},
   "outputs": [
    {
     "name": "stdout",
     "output_type": "stream",
     "text": [
      "<class 'pandas.core.frame.DataFrame'>\n",
      "RangeIndex: 79672 entries, 0 to 79671\n",
      "Data columns (total 11 columns):\n",
      " #   Column                    Non-Null Count  Dtype  \n",
      "---  ------                    --------------  -----  \n",
      " 0   animal_type               79672 non-null  object \n",
      " 1   intake_year               79672 non-null  int64  \n",
      " 2   intake_condition          79672 non-null  object \n",
      " 3   intake_number             79672 non-null  float64\n",
      " 4   intake_type               79672 non-null  object \n",
      " 5   sex_upon_intake           79671 non-null  object \n",
      " 6   age_upon_intake_(years)   79672 non-null  float64\n",
      " 7   time_in_shelter_days      79672 non-null  float64\n",
      " 8   sex_upon_outcome          79671 non-null  object \n",
      " 9   age_upon_outcome_(years)  79672 non-null  float64\n",
      " 10  outcome_type              79662 non-null  object \n",
      "dtypes: float64(4), int64(1), object(6)\n",
      "memory usage: 6.7+ MB\n"
     ]
    }
   ],
   "source": [
    "df.info()"
   ]
  },
  {
   "cell_type": "code",
   "execution_count": 242,
   "metadata": {},
   "outputs": [
    {
     "data": {
      "text/plain": [
       "animal_type                  0\n",
       "intake_year                  0\n",
       "intake_condition             0\n",
       "intake_number                0\n",
       "intake_type                  0\n",
       "sex_upon_intake              1\n",
       "age_upon_intake_(years)      0\n",
       "time_in_shelter_days         0\n",
       "sex_upon_outcome             1\n",
       "age_upon_outcome_(years)     0\n",
       "outcome_type                10\n",
       "dtype: int64"
      ]
     },
     "execution_count": 242,
     "metadata": {},
     "output_type": "execute_result"
    }
   ],
   "source": [
    "df.isna().sum()"
   ]
  },
  {
   "cell_type": "code",
   "execution_count": 243,
   "metadata": {},
   "outputs": [
    {
     "data": {
      "text/plain": [
       "False"
      ]
     },
     "execution_count": 243,
     "metadata": {},
     "output_type": "execute_result"
    }
   ],
   "source": [
    "df.dropna(inplace=True)\n",
    "df.isna().values.any()"
   ]
  },
  {
   "attachments": {},
   "cell_type": "markdown",
   "metadata": {},
   "source": [
    "## Checking target column"
   ]
  },
  {
   "cell_type": "code",
   "execution_count": 244,
   "metadata": {},
   "outputs": [
    {
     "data": {
      "text/plain": [
       "Adoption           33594\n",
       "Transfer           23799\n",
       "Return to Owner    14790\n",
       "Euthanasia          6244\n",
       "Died                 690\n",
       "Disposal             304\n",
       "Rto-Adopt            179\n",
       "Missing               46\n",
       "Relocate              15\n",
       "Name: outcome_type, dtype: int64"
      ]
     },
     "execution_count": 244,
     "metadata": {},
     "output_type": "execute_result"
    }
   ],
   "source": [
    "df.outcome_type.value_counts()"
   ]
  },
  {
   "attachments": {},
   "cell_type": "markdown",
   "metadata": {},
   "source": [
    "We observe, *Adoption*, *Transfer*, *Return to Owner*, *Euthanasia* are most prominent features. \n",
    "But since we only need to predict whether animal was Adopted or not. We can perform binary classification for now. "
   ]
  },
  {
   "cell_type": "code",
   "execution_count": 245,
   "metadata": {},
   "outputs": [],
   "source": [
    "df['outcome_type'] = df['outcome_type'].map(lambda x: 1 if x == 'Adoption' else 0)\n"
   ]
  },
  {
   "attachments": {},
   "cell_type": "markdown",
   "metadata": {},
   "source": [
    "## Feature Engineering\n",
    "\n",
    "Converting data to feed the random forest.  "
   ]
  },
  {
   "cell_type": "code",
   "execution_count": 246,
   "metadata": {},
   "outputs": [
    {
     "name": "stdout",
     "output_type": "stream",
     "text": [
      "<class 'pandas.core.frame.DataFrame'>\n",
      "Int64Index: 79661 entries, 0 to 79671\n",
      "Data columns (total 11 columns):\n",
      " #   Column                    Non-Null Count  Dtype  \n",
      "---  ------                    --------------  -----  \n",
      " 0   animal_type               79661 non-null  object \n",
      " 1   intake_year               79661 non-null  int64  \n",
      " 2   intake_condition          79661 non-null  object \n",
      " 3   intake_number             79661 non-null  float64\n",
      " 4   intake_type               79661 non-null  object \n",
      " 5   sex_upon_intake           79661 non-null  object \n",
      " 6   age_upon_intake_(years)   79661 non-null  float64\n",
      " 7   time_in_shelter_days      79661 non-null  float64\n",
      " 8   sex_upon_outcome          79661 non-null  object \n",
      " 9   age_upon_outcome_(years)  79661 non-null  float64\n",
      " 10  outcome_type              79661 non-null  int64  \n",
      "dtypes: float64(4), int64(2), object(5)\n",
      "memory usage: 7.3+ MB\n"
     ]
    }
   ],
   "source": [
    "df.info()"
   ]
  },
  {
   "attachments": {},
   "cell_type": "markdown",
   "metadata": {},
   "source": [
    "### animal_type"
   ]
  },
  {
   "cell_type": "code",
   "execution_count": 247,
   "metadata": {},
   "outputs": [
    {
     "data": {
      "text/plain": [
       "Dog      45363\n",
       "Cat      29536\n",
       "Other     4423\n",
       "Bird       339\n",
       "Name: animal_type, dtype: int64"
      ]
     },
     "execution_count": 247,
     "metadata": {},
     "output_type": "execute_result"
    }
   ],
   "source": [
    "df.animal_type.value_counts()"
   ]
  },
  {
   "cell_type": "code",
   "execution_count": 248,
   "metadata": {},
   "outputs": [],
   "source": [
    "#performing OHE on animal_type\n",
    "df = pd.get_dummies(df, columns=['animal_type'])"
   ]
  },
  {
   "attachments": {},
   "cell_type": "markdown",
   "metadata": {},
   "source": [
    "### intake_year"
   ]
  },
  {
   "cell_type": "code",
   "execution_count": 249,
   "metadata": {},
   "outputs": [
    {
     "data": {
      "text/plain": [
       "2015    18699\n",
       "2014    18641\n",
       "2016    17630\n",
       "2017    17436\n",
       "2013     4177\n",
       "2018     3078\n",
       "Name: intake_year, dtype: int64"
      ]
     },
     "execution_count": 249,
     "metadata": {},
     "output_type": "execute_result"
    }
   ],
   "source": [
    "df.intake_year.value_counts()"
   ]
  },
  {
   "attachments": {},
   "cell_type": "markdown",
   "metadata": {},
   "source": [
    "### intake_condition             "
   ]
  },
  {
   "cell_type": "code",
   "execution_count": 250,
   "metadata": {},
   "outputs": [
    {
     "data": {
      "text/plain": [
       "Normal      70046\n",
       "Injured      3997\n",
       "Sick         3098\n",
       "Nursing      1915\n",
       "Aged          319\n",
       "Other         147\n",
       "Feral          92\n",
       "Pregnant       47\n",
       "Name: intake_condition, dtype: int64"
      ]
     },
     "execution_count": 250,
     "metadata": {},
     "output_type": "execute_result"
    }
   ],
   "source": [
    "df.intake_condition.value_counts()"
   ]
  },
  {
   "cell_type": "code",
   "execution_count": 251,
   "metadata": {},
   "outputs": [],
   "source": [
    "#performing OHE on intake_condition\n",
    "df = pd.get_dummies(df, columns=['intake_condition'])"
   ]
  },
  {
   "attachments": {},
   "cell_type": "markdown",
   "metadata": {},
   "source": [
    " ### intake_number"
   ]
  },
  {
   "cell_type": "code",
   "execution_count": 252,
   "metadata": {},
   "outputs": [
    {
     "data": {
      "text/plain": [
       "1.0     71986\n",
       "2.0      6048\n",
       "3.0      1152\n",
       "4.0       302\n",
       "5.0       101\n",
       "6.0        39\n",
       "7.0        15\n",
       "8.0         7\n",
       "10.0        3\n",
       "11.0        3\n",
       "9.0         3\n",
       "12.0        1\n",
       "13.0        1\n",
       "Name: intake_number, dtype: int64"
      ]
     },
     "execution_count": 252,
     "metadata": {},
     "output_type": "execute_result"
    }
   ],
   "source": [
    "df.intake_number.value_counts()"
   ]
  },
  {
   "cell_type": "code",
   "execution_count": 253,
   "metadata": {},
   "outputs": [],
   "source": [
    "# IGNORING AS RESULTS WERE NOT GOOD\n",
    "# since this is important column, we divide the data into bins\n",
    "# bins = [0, 1, 3, 8, float('inf')]\n",
    "# labels = ['1', '2-3', '4-8', '8+']\n",
    "# df['intake_number_group'] = pd.cut(df['intake_number'], bins=bins, labels=labels)\n",
    "\n",
    "# replacement_mapping = {'1': 1, '2-3': 2, '4-8': 3, '8+': 4}\n",
    "# df['intake_number_group'] = df['intake_number_group'].replace(replacement_mapping)\n",
    "\n",
    "# df = df.drop('intake_number', axis=1)\n"
   ]
  },
  {
   "attachments": {},
   "cell_type": "markdown",
   "metadata": {},
   "source": [
    "### intake_type"
   ]
  },
  {
   "cell_type": "code",
   "execution_count": 254,
   "metadata": {},
   "outputs": [
    {
     "data": {
      "text/plain": [
       "Stray                 55932\n",
       "Owner Surrender       15027\n",
       "Public Assist          4992\n",
       "Wildlife               3459\n",
       "Euthanasia Request      251\n",
       "Name: intake_type, dtype: int64"
      ]
     },
     "execution_count": 254,
     "metadata": {},
     "output_type": "execute_result"
    }
   ],
   "source": [
    "df.intake_type.value_counts()"
   ]
  },
  {
   "cell_type": "code",
   "execution_count": 255,
   "metadata": {},
   "outputs": [],
   "source": [
    "#performing OHE on intake_type\n",
    "df = pd.get_dummies(df, columns=['intake_type'])"
   ]
  },
  {
   "attachments": {},
   "cell_type": "markdown",
   "metadata": {},
   "source": [
    "### sex_upon_intake"
   ]
  },
  {
   "cell_type": "code",
   "execution_count": 256,
   "metadata": {},
   "outputs": [
    {
     "data": {
      "text/plain": [
       "Intact Male      25315\n",
       "Intact Female    23702\n",
       "Neutered Male    12707\n",
       "Spayed Female    11153\n",
       "Unknown           6784\n",
       "Name: sex_upon_intake, dtype: int64"
      ]
     },
     "execution_count": 256,
     "metadata": {},
     "output_type": "execute_result"
    }
   ],
   "source": [
    "df.sex_upon_intake.value_counts()"
   ]
  },
  {
   "cell_type": "code",
   "execution_count": 257,
   "metadata": {},
   "outputs": [],
   "source": [
    "#performing OHE on sex_upon_intake\n",
    "df = pd.get_dummies(df, columns=['sex_upon_intake'])"
   ]
  },
  {
   "attachments": {},
   "cell_type": "markdown",
   "metadata": {},
   "source": [
    "### age_upon_intake_(years)"
   ]
  },
  {
   "cell_type": "code",
   "execution_count": 258,
   "metadata": {},
   "outputs": [
    {
     "data": {
      "text/plain": [
       "1.000000     14577\n",
       "2.000000     11529\n",
       "0.082192      7457\n",
       "3.000000      5206\n",
       "0.164384      4023\n",
       "4.000000      3071\n",
       "0.076712      2816\n",
       "5.000000      2736\n",
       "0.057534      2276\n",
       "0.328767      2047\n",
       "0.410959      2005\n",
       "0.246575      1936\n",
       "6.000000      1848\n",
       "0.038356      1596\n",
       "7.000000      1573\n",
       "0.493151      1538\n",
       "8.000000      1521\n",
       "0.019178      1194\n",
       "0.739726      1191\n",
       "10.000000     1152\n",
       "0.575342      1151\n",
       "0.657534       897\n",
       "9.000000       865\n",
       "0.821918       713\n",
       "12.000000      591\n",
       "0.904110       524\n",
       "0.000000       449\n",
       "11.000000      449\n",
       "13.000000      379\n",
       "0.008219       347\n",
       "0.002740       345\n",
       "0.005479       271\n",
       "14.000000      249\n",
       "15.000000      214\n",
       "0.095890       201\n",
       "0.016438       190\n",
       "0.010959       186\n",
       "0.013699       125\n",
       "16.000000      106\n",
       "17.000000       59\n",
       "18.000000       27\n",
       "19.000000       13\n",
       "20.000000       13\n",
       "22.000000        4\n",
       "25.000000        1\n",
       "Name: age_upon_intake_(years), dtype: int64"
      ]
     },
     "execution_count": 258,
     "metadata": {},
     "output_type": "execute_result"
    }
   ],
   "source": [
    "df['age_upon_intake_(years)'].value_counts()"
   ]
  },
  {
   "cell_type": "code",
   "execution_count": 259,
   "metadata": {},
   "outputs": [],
   "source": [
    "# IGNORING AS RESULTS WERE NOT GOOD\n",
    "# bins = [0, 1, 5, 10, 20, float('inf')]\n",
    "# labels = ['<1', '1-5', '5-10', '10-20', '20+']\n",
    "# df['age_group'] = pd.cut(df['age_upon_intake_(years)'], bins=bins, labels=labels)\n",
    "\n",
    "# replacement_mapping = {'<1': 0, '1-5': 1, '5-10': 2, '10-20': 3, '20+':4}\n",
    "# df['age_group'] = df['age_group'].replace(replacement_mapping)\n",
    "\n",
    "# df = df.drop('age_upon_intake_(years)', axis=1)"
   ]
  },
  {
   "attachments": {},
   "cell_type": "markdown",
   "metadata": {},
   "source": [
    "### time_in_shelter_days"
   ]
  },
  {
   "cell_type": "code",
   "execution_count": 260,
   "metadata": {},
   "outputs": [
    {
     "data": {
      "text/plain": [
       "0.004167      77\n",
       "0.008333      77\n",
       "0.007639      77\n",
       "0.009722      77\n",
       "0.011806      77\n",
       "              ..\n",
       "16.802083      1\n",
       "15.568750      1\n",
       "101.061111     1\n",
       "12.622917      1\n",
       "2.885417       1\n",
       "Name: time_in_shelter_days, Length: 29315, dtype: int64"
      ]
     },
     "execution_count": 260,
     "metadata": {},
     "output_type": "execute_result"
    }
   ],
   "source": [
    "df.time_in_shelter_days.value_counts()"
   ]
  },
  {
   "attachments": {},
   "cell_type": "markdown",
   "metadata": {},
   "source": [
    "### sex_upon_outcome"
   ]
  },
  {
   "cell_type": "code",
   "execution_count": 261,
   "metadata": {},
   "outputs": [
    {
     "data": {
      "text/plain": [
       "Neutered Male    28292\n",
       "Spayed Female    25549\n",
       "Intact Male       9730\n",
       "Intact Female     9306\n",
       "Unknown           6784\n",
       "Name: sex_upon_outcome, dtype: int64"
      ]
     },
     "execution_count": 261,
     "metadata": {},
     "output_type": "execute_result"
    }
   ],
   "source": [
    "df.sex_upon_outcome.value_counts()"
   ]
  },
  {
   "cell_type": "code",
   "execution_count": 262,
   "metadata": {},
   "outputs": [],
   "source": [
    "#performing OHE on sex_upon_outcome\n",
    "df = pd.get_dummies(df, columns=['sex_upon_outcome'])"
   ]
  },
  {
   "attachments": {},
   "cell_type": "markdown",
   "metadata": {},
   "source": [
    "### age_upon_outcome_(years)"
   ]
  },
  {
   "cell_type": "code",
   "execution_count": 263,
   "metadata": {},
   "outputs": [
    {
     "data": {
      "text/plain": [
       "1.000000     14747\n",
       "2.000000     11542\n",
       "0.164384      9246\n",
       "3.000000      5277\n",
       "0.246575      3401\n",
       "0.082192      3393\n",
       "4.000000      3044\n",
       "5.000000      2747\n",
       "0.328767      2417\n",
       "0.410959      1955\n",
       "0.493151      1905\n",
       "6.000000      1850\n",
       "8.000000      1588\n",
       "7.000000      1572\n",
       "0.057534      1474\n",
       "0.038356      1340\n",
       "0.821918      1237\n",
       "0.076712      1204\n",
       "0.657534      1201\n",
       "10.000000     1191\n",
       "0.575342       986\n",
       "0.019178       953\n",
       "9.000000       839\n",
       "0.739726       705\n",
       "12.000000      613\n",
       "0.904110       512\n",
       "11.000000      444\n",
       "13.000000      399\n",
       "14.000000      255\n",
       "0.008219       238\n",
       "0.005479       226\n",
       "15.000000      214\n",
       "0.002740       157\n",
       "0.016438       152\n",
       "0.010959       136\n",
       "0.013699       116\n",
       "16.000000      107\n",
       "0.000000        93\n",
       "0.095890        67\n",
       "17.000000       59\n",
       "18.000000       28\n",
       "19.000000       13\n",
       "20.000000       13\n",
       "22.000000        4\n",
       "25.000000        1\n",
       "Name: age_upon_outcome_(years), dtype: int64"
      ]
     },
     "execution_count": 263,
     "metadata": {},
     "output_type": "execute_result"
    }
   ],
   "source": [
    "df['age_upon_outcome_(years)'].value_counts()"
   ]
  },
  {
   "cell_type": "code",
   "execution_count": 264,
   "metadata": {},
   "outputs": [
    {
     "name": "stdout",
     "output_type": "stream",
     "text": [
      "<class 'pandas.core.frame.DataFrame'>\n",
      "Int64Index: 79661 entries, 0 to 79671\n",
      "Data columns (total 33 columns):\n",
      " #   Column                          Non-Null Count  Dtype  \n",
      "---  ------                          --------------  -----  \n",
      " 0   intake_year                     79661 non-null  int64  \n",
      " 1   intake_number                   79661 non-null  float64\n",
      " 2   age_upon_intake_(years)         79661 non-null  float64\n",
      " 3   time_in_shelter_days            79661 non-null  float64\n",
      " 4   age_upon_outcome_(years)        79661 non-null  float64\n",
      " 5   outcome_type                    79661 non-null  int64  \n",
      " 6   animal_type_Bird                79661 non-null  uint8  \n",
      " 7   animal_type_Cat                 79661 non-null  uint8  \n",
      " 8   animal_type_Dog                 79661 non-null  uint8  \n",
      " 9   animal_type_Other               79661 non-null  uint8  \n",
      " 10  intake_condition_Aged           79661 non-null  uint8  \n",
      " 11  intake_condition_Feral          79661 non-null  uint8  \n",
      " 12  intake_condition_Injured        79661 non-null  uint8  \n",
      " 13  intake_condition_Normal         79661 non-null  uint8  \n",
      " 14  intake_condition_Nursing        79661 non-null  uint8  \n",
      " 15  intake_condition_Other          79661 non-null  uint8  \n",
      " 16  intake_condition_Pregnant       79661 non-null  uint8  \n",
      " 17  intake_condition_Sick           79661 non-null  uint8  \n",
      " 18  intake_type_Euthanasia Request  79661 non-null  uint8  \n",
      " 19  intake_type_Owner Surrender     79661 non-null  uint8  \n",
      " 20  intake_type_Public Assist       79661 non-null  uint8  \n",
      " 21  intake_type_Stray               79661 non-null  uint8  \n",
      " 22  intake_type_Wildlife            79661 non-null  uint8  \n",
      " 23  sex_upon_intake_Intact Female   79661 non-null  uint8  \n",
      " 24  sex_upon_intake_Intact Male     79661 non-null  uint8  \n",
      " 25  sex_upon_intake_Neutered Male   79661 non-null  uint8  \n",
      " 26  sex_upon_intake_Spayed Female   79661 non-null  uint8  \n",
      " 27  sex_upon_intake_Unknown         79661 non-null  uint8  \n",
      " 28  sex_upon_outcome_Intact Female  79661 non-null  uint8  \n",
      " 29  sex_upon_outcome_Intact Male    79661 non-null  uint8  \n",
      " 30  sex_upon_outcome_Neutered Male  79661 non-null  uint8  \n",
      " 31  sex_upon_outcome_Spayed Female  79661 non-null  uint8  \n",
      " 32  sex_upon_outcome_Unknown        79661 non-null  uint8  \n",
      "dtypes: float64(4), int64(2), uint8(27)\n",
      "memory usage: 6.3 MB\n"
     ]
    }
   ],
   "source": [
    "df.info()"
   ]
  },
  {
   "attachments": {},
   "cell_type": "markdown",
   "metadata": {},
   "source": [
    "## Splitting data into train test"
   ]
  },
  {
   "attachments": {},
   "cell_type": "markdown",
   "metadata": {},
   "source": [
    "Regular split"
   ]
  },
  {
   "cell_type": "code",
   "execution_count": 266,
   "metadata": {},
   "outputs": [
    {
     "name": "stdout",
     "output_type": "stream",
     "text": [
      "63728 63728 15933 15933\n"
     ]
    }
   ],
   "source": [
    "X = df.drop('outcome_type', axis=1)  # Select all columns except 'outcome_type'\n",
    "y = df['outcome_type']  # Select 'outcome_type' as the target\n",
    "\n",
    "# train test split\n",
    "X_train, X_test, y_train, y_test = train_test_split(X, y, test_size=0.2)\n",
    "print(len(X_train), len(y_train),len(X_test), len(y_test))"
   ]
  },
  {
   "cell_type": "code",
   "execution_count": 270,
   "metadata": {},
   "outputs": [
    {
     "name": "stdout",
     "output_type": "stream",
     "text": [
      "Checking the regular split class distribution \n",
      " 0    36864\n",
      "1    26864\n",
      "Name: outcome_type, dtype: int64\n"
     ]
    }
   ],
   "source": [
    "print('Checking the regular split class distribution','\\n', pd.Series(y_train).value_counts()) "
   ]
  },
  {
   "attachments": {},
   "cell_type": "markdown",
   "metadata": {},
   "source": [
    "SMOTE split"
   ]
  },
  {
   "cell_type": "code",
   "execution_count": 277,
   "metadata": {},
   "outputs": [
    {
     "name": "stdout",
     "output_type": "stream",
     "text": [
      "Checking the smote split class distribution \n",
      " 1    36864\n",
      "0    36864\n",
      "Name: outcome_type, dtype: int64\n"
     ]
    }
   ],
   "source": [
    "X_train_resampled, y_train_resampled = SMOTE().fit_resample(X_train, y_train) \n",
    "\n",
    "print('Checking the smote split class distribution','\\n',pd.Series(y_train_resampled).value_counts()) "
   ]
  },
  {
   "attachments": {},
   "cell_type": "markdown",
   "metadata": {},
   "source": [
    "### Training Random Forest Classifier"
   ]
  },
  {
   "cell_type": "code",
   "execution_count": 317,
   "metadata": {},
   "outputs": [],
   "source": [
    "# Create an instance of the random forest classifier:\n",
    "rf = RandomForestClassifier(random_state=42)\n",
    "param_grid = {\n",
    "    'n_estimators': [100, 200, 300],\n",
    "    'max_depth':[0,5,10,15,20, 25]\n",
    "}\n"
   ]
  },
  {
   "attachments": {},
   "cell_type": "markdown",
   "metadata": {},
   "source": [
    "Modelling with regular split"
   ]
  },
  {
   "cell_type": "code",
   "execution_count": 318,
   "metadata": {},
   "outputs": [
    {
     "name": "stderr",
     "output_type": "stream",
     "text": [
      "c:\\ProgramData\\Anaconda3\\lib\\site-packages\\sklearn\\model_selection\\_validation.py:378: FitFailedWarning: \n",
      "9 fits failed out of a total of 54.\n",
      "The score on these train-test partitions for these parameters will be set to nan.\n",
      "If these failures are not expected, you can try to debug them by setting error_score='raise'.\n",
      "\n",
      "Below are more details about the failures:\n",
      "--------------------------------------------------------------------------------\n",
      "9 fits failed with the following error:\n",
      "Traceback (most recent call last):\n",
      "  File \"c:\\ProgramData\\Anaconda3\\lib\\site-packages\\sklearn\\model_selection\\_validation.py\", line 686, in _fit_and_score\n",
      "    estimator.fit(X_train, y_train, **fit_params)\n",
      "  File \"c:\\ProgramData\\Anaconda3\\lib\\site-packages\\sklearn\\ensemble\\_forest.py\", line 476, in fit\n",
      "    trees = Parallel(\n",
      "  File \"c:\\ProgramData\\Anaconda3\\lib\\site-packages\\joblib\\parallel.py\", line 1043, in __call__\n",
      "    if self.dispatch_one_batch(iterator):\n",
      "  File \"c:\\ProgramData\\Anaconda3\\lib\\site-packages\\joblib\\parallel.py\", line 861, in dispatch_one_batch\n",
      "    self._dispatch(tasks)\n",
      "  File \"c:\\ProgramData\\Anaconda3\\lib\\site-packages\\joblib\\parallel.py\", line 779, in _dispatch\n",
      "    job = self._backend.apply_async(batch, callback=cb)\n",
      "  File \"c:\\ProgramData\\Anaconda3\\lib\\site-packages\\joblib\\_parallel_backends.py\", line 208, in apply_async\n",
      "    result = ImmediateResult(func)\n",
      "  File \"c:\\ProgramData\\Anaconda3\\lib\\site-packages\\joblib\\_parallel_backends.py\", line 572, in __init__\n",
      "    self.results = batch()\n",
      "  File \"c:\\ProgramData\\Anaconda3\\lib\\site-packages\\joblib\\parallel.py\", line 262, in __call__\n",
      "    return [func(*args, **kwargs)\n",
      "  File \"c:\\ProgramData\\Anaconda3\\lib\\site-packages\\joblib\\parallel.py\", line 262, in <listcomp>\n",
      "    return [func(*args, **kwargs)\n",
      "  File \"c:\\ProgramData\\Anaconda3\\lib\\site-packages\\sklearn\\utils\\fixes.py\", line 117, in __call__\n",
      "    return self.function(*args, **kwargs)\n",
      "  File \"c:\\ProgramData\\Anaconda3\\lib\\site-packages\\sklearn\\ensemble\\_forest.py\", line 189, in _parallel_build_trees\n",
      "    tree.fit(X, y, sample_weight=curr_sample_weight, check_input=False)\n",
      "  File \"c:\\ProgramData\\Anaconda3\\lib\\site-packages\\sklearn\\tree\\_classes.py\", line 969, in fit\n",
      "    super().fit(\n",
      "  File \"c:\\ProgramData\\Anaconda3\\lib\\site-packages\\sklearn\\tree\\_classes.py\", line 238, in fit\n",
      "    check_scalar(\n",
      "  File \"c:\\ProgramData\\Anaconda3\\lib\\site-packages\\sklearn\\utils\\validation.py\", line 1480, in check_scalar\n",
      "    raise ValueError(\n",
      "ValueError: max_depth == 0, must be >= 1.\n",
      "\n",
      "  warnings.warn(some_fits_failed_message, FitFailedWarning)\n",
      "c:\\ProgramData\\Anaconda3\\lib\\site-packages\\sklearn\\model_selection\\_search.py:953: UserWarning: One or more of the test scores are non-finite: [       nan        nan        nan 0.83895621 0.8395368  0.83831286\n",
      " 0.85089759 0.85070929 0.8508819  0.85499313 0.85541681 0.85518143\n",
      " 0.85166646 0.85130556 0.85135263 0.84116871 0.84170221 0.84178067]\n",
      "  warnings.warn(\n"
     ]
    },
    {
     "name": "stdout",
     "output_type": "stream",
     "text": [
      "Best Parameters: {'max_depth': 15, 'n_estimators': 200}\n",
      "Best Score: 0.8554168098653081\n",
      "Test Accuracy: 0.8454151760497082\n",
      "Report:  \n",
      "               precision    recall  f1-score   support\n",
      "\n",
      "           0       0.92      0.81      0.86      9203\n",
      "           1       0.77      0.90      0.83      6730\n",
      "\n",
      "    accuracy                           0.85     15933\n",
      "   macro avg       0.84      0.85      0.84     15933\n",
      "weighted avg       0.86      0.85      0.85     15933\n",
      "\n"
     ]
    },
    {
     "data": {
      "image/png": "[encoded data removed]",
      "text/plain": [
       "<Figure size 576x432 with 2 Axes>"
      ]
     },
     "metadata": {
      "needs_background": "light"
     },
     "output_type": "display_data"
    },
    {
     "name": "stdout",
     "output_type": "stream",
     "text": [
      "Top 10 Features with :\n",
      "time_in_shelter_days : 0.30963664206942443\n",
      "sex_upon_outcome_Intact Male : 0.09474525823913116\n",
      "sex_upon_outcome_Intact Female : 0.07173297585831309\n",
      "age_upon_outcome_(years) : 0.06652250873356805\n",
      "sex_upon_outcome_Spayed Female : 0.06610308322003759\n",
      "sex_upon_outcome_Neutered Male : 0.04462966356728505\n",
      "age_upon_intake_(years) : 0.04407621868204077\n",
      "intake_type_Owner Surrender : 0.04287669330104161\n",
      "sex_upon_intake_Intact Male : 0.039592691081550634\n",
      "intake_type_Public Assist : 0.03632010935281994\n"
     ]
    }
   ],
   "source": [
    "#Perform grid search with 3-fold cross-validation:\n",
    "grid_search_reg = GridSearchCV(estimator=rf, param_grid=param_grid, cv=3)\n",
    "grid_search_reg.fit(X_train, y_train)\n",
    "\n",
    "# best parameters\n",
    "print(\"Best Parameters:\", grid_search_reg.best_params_)\n",
    "print(\"Best Score:\", grid_search_reg.best_score_)\n",
    "best_n_estimators = grid_search.best_params_['n_estimators']\n",
    "best_max_depth = grid_search.best_params_['max_depth']\n",
    "\n",
    "# Fit the random forest with the best parameters\n",
    "best_classifier = RandomForestClassifier(n_estimators=best_n_estimators, max_depth=best_max_depth, random_state=42)\n",
    "best_classifier.fit(X_train, y_train)\n",
    "\n",
    "# Evaluate the model on the test set:\n",
    "y_pred = best_classifier.predict(X_test)\n",
    "accuracy = accuracy_score(y_test, y_pred)\n",
    "print(\"Test Accuracy:\", accuracy)\n",
    "\n",
    "report = classification_report(y_test, y_pred)\n",
    "print('Report: ', '\\n', report)\n",
    "\n",
    "# confusion matrix\n",
    "cm = confusion_matrix(y_test, y_pred)\n",
    "# Define class labels\n",
    "class_labels = ['Not Adopted', 'Adopted']\n",
    "# Plot the confusion matrix\n",
    "plt.figure(figsize=(8, 6))\n",
    "sns.heatmap(cm, annot=True, fmt='d', cmap='Blues', xticklabels=class_labels, yticklabels=class_labels)\n",
    "plt.title('Confusion Matrix')\n",
    "plt.xlabel('Predicted')\n",
    "plt.ylabel('True')\n",
    "plt.show()\n",
    "\n",
    "\n",
    "# important features\n",
    "importances = best_classifier.feature_importances_\n",
    "feature_names = X_train.columns\n",
    "feature_importances = list(zip(feature_names, importances))\n",
    "sorted_importances = sorted(feature_importances, key=lambda x: x[1], reverse=True)\n",
    "top_10_features = sorted_importances[:10]\n",
    "print(\"Top 10 Features with :\")\n",
    "for feature, importance in top_10_features:\n",
    "    print(feature, \":\", importance)"
   ]
  },
  {
   "cell_type": "code",
   "execution_count": 319,
   "metadata": {},
   "outputs": [
    {
     "data": {
      "image/png": "[encoded data removed]",
      "text/plain": [
       "<Figure size 432x288 with 1 Axes>"
      ]
     },
     "metadata": {
      "needs_background": "light"
     },
     "output_type": "display_data"
    }
   ],
   "source": [
    "# Collect the performance metrics for each depth value\n",
    "depth_values = []\n",
    "test_scores = []\n",
    "\n",
    "for params, mean_test_score in zip(grid_search_reg.cv_results_['params'],\n",
    "                                                     grid_search_reg.cv_results_['mean_test_score']):\n",
    "    depth_values.append(params['max_depth'])\n",
    "    test_scores.append(mean_test_score)\n",
    "\n",
    "# Plot the results\n",
    "plt.plot(depth_values, test_scores, label='Test Accuracy')\n",
    "plt.xlabel('max_depth')\n",
    "plt.ylabel('Accuracy')\n",
    "plt.title('Performance Metrics for Different max_depth Values')\n",
    "plt.legend()\n",
    "plt.show()"
   ]
  },
  {
   "attachments": {},
   "cell_type": "markdown",
   "metadata": {},
   "source": [
    "Modelling with SMOTE split"
   ]
  },
  {
   "cell_type": "code",
   "execution_count": 320,
   "metadata": {},
   "outputs": [
    {
     "name": "stderr",
     "output_type": "stream",
     "text": [
      "c:\\ProgramData\\Anaconda3\\lib\\site-packages\\sklearn\\model_selection\\_validation.py:378: FitFailedWarning: \n",
      "9 fits failed out of a total of 54.\n",
      "The score on these train-test partitions for these parameters will be set to nan.\n",
      "If these failures are not expected, you can try to debug them by setting error_score='raise'.\n",
      "\n",
      "Below are more details about the failures:\n",
      "--------------------------------------------------------------------------------\n",
      "9 fits failed with the following error:\n",
      "Traceback (most recent call last):\n",
      "  File \"c:\\ProgramData\\Anaconda3\\lib\\site-packages\\sklearn\\model_selection\\_validation.py\", line 686, in _fit_and_score\n",
      "    estimator.fit(X_train, y_train, **fit_params)\n",
      "  File \"c:\\ProgramData\\Anaconda3\\lib\\site-packages\\sklearn\\ensemble\\_forest.py\", line 476, in fit\n",
      "    trees = Parallel(\n",
      "  File \"c:\\ProgramData\\Anaconda3\\lib\\site-packages\\joblib\\parallel.py\", line 1043, in __call__\n",
      "    if self.dispatch_one_batch(iterator):\n",
      "  File \"c:\\ProgramData\\Anaconda3\\lib\\site-packages\\joblib\\parallel.py\", line 861, in dispatch_one_batch\n",
      "    self._dispatch(tasks)\n",
      "  File \"c:\\ProgramData\\Anaconda3\\lib\\site-packages\\joblib\\parallel.py\", line 779, in _dispatch\n",
      "    job = self._backend.apply_async(batch, callback=cb)\n",
      "  File \"c:\\ProgramData\\Anaconda3\\lib\\site-packages\\joblib\\_parallel_backends.py\", line 208, in apply_async\n",
      "    result = ImmediateResult(func)\n",
      "  File \"c:\\ProgramData\\Anaconda3\\lib\\site-packages\\joblib\\_parallel_backends.py\", line 572, in __init__\n",
      "    self.results = batch()\n",
      "  File \"c:\\ProgramData\\Anaconda3\\lib\\site-packages\\joblib\\parallel.py\", line 262, in __call__\n",
      "    return [func(*args, **kwargs)\n",
      "  File \"c:\\ProgramData\\Anaconda3\\lib\\site-packages\\joblib\\parallel.py\", line 262, in <listcomp>\n",
      "    return [func(*args, **kwargs)\n",
      "  File \"c:\\ProgramData\\Anaconda3\\lib\\site-packages\\sklearn\\utils\\fixes.py\", line 117, in __call__\n",
      "    return self.function(*args, **kwargs)\n",
      "  File \"c:\\ProgramData\\Anaconda3\\lib\\site-packages\\sklearn\\ensemble\\_forest.py\", line 189, in _parallel_build_trees\n",
      "    tree.fit(X, y, sample_weight=curr_sample_weight, check_input=False)\n",
      "  File \"c:\\ProgramData\\Anaconda3\\lib\\site-packages\\sklearn\\tree\\_classes.py\", line 969, in fit\n",
      "    super().fit(\n",
      "  File \"c:\\ProgramData\\Anaconda3\\lib\\site-packages\\sklearn\\tree\\_classes.py\", line 238, in fit\n",
      "    check_scalar(\n",
      "  File \"c:\\ProgramData\\Anaconda3\\lib\\site-packages\\sklearn\\utils\\validation.py\", line 1480, in check_scalar\n",
      "    raise ValueError(\n",
      "ValueError: max_depth == 0, must be >= 1.\n",
      "\n",
      "  warnings.warn(some_fits_failed_message, FitFailedWarning)\n",
      "c:\\ProgramData\\Anaconda3\\lib\\site-packages\\sklearn\\model_selection\\_search.py:953: UserWarning: One or more of the test scores are non-finite: [       nan        nan        nan 0.85225423 0.85244412 0.85180664\n",
      " 0.86029731 0.85998535 0.86093479 0.86503092 0.86626519 0.86668566\n",
      " 0.86720106 0.86736382 0.8678928  0.86092122 0.86216905 0.86225043]\n",
      "  warnings.warn(\n"
     ]
    },
    {
     "name": "stdout",
     "output_type": "stream",
     "text": [
      "Best Parameters: {'max_depth': 20, 'n_estimators': 300}\n",
      "Best Score: 0.8678927951388888\n",
      "Test Accuracy: 0.8503734387748698\n",
      "Report:  \n",
      "               precision    recall  f1-score   support\n",
      "\n",
      "           0       0.93      0.80      0.86      9203\n",
      "           1       0.77      0.91      0.84      6730\n",
      "\n",
      "    accuracy                           0.85     15933\n",
      "   macro avg       0.85      0.86      0.85     15933\n",
      "weighted avg       0.86      0.85      0.85     15933\n",
      "\n"
     ]
    },
    {
     "name": "stderr",
     "output_type": "stream",
     "text": [
      "c:\\ProgramData\\Anaconda3\\lib\\site-packages\\sklearn\\utils\\deprecation.py:87: FutureWarning: Function plot_confusion_matrix is deprecated; Function `plot_confusion_matrix` is deprecated in 1.0 and will be removed in 1.2. Use one of the class methods: ConfusionMatrixDisplay.from_predictions or ConfusionMatrixDisplay.from_estimator.\n",
      "  warnings.warn(msg, category=FutureWarning)\n"
     ]
    },
    {
     "data": {
      "image/png": "[encoded data removed]",
      "text/plain": [
       "<Figure size 432x288 with 3 Axes>"
      ]
     },
     "metadata": {
      "needs_background": "light"
     },
     "output_type": "display_data"
    },
    {
     "name": "stdout",
     "output_type": "stream",
     "text": [
      "Top 10 Features with :\n",
      "time_in_shelter_days : 0.3597320903161585\n",
      "age_upon_outcome_(years) : 0.07599362450247833\n",
      "sex_upon_outcome_Intact Male : 0.07204862893649586\n",
      "age_upon_intake_(years) : 0.06388936831869803\n",
      "sex_upon_outcome_Intact Female : 0.05794198411733437\n",
      "sex_upon_outcome_Spayed Female : 0.03997281935716317\n",
      "intake_type_Public Assist : 0.03780703398689643\n",
      "intake_type_Owner Surrender : 0.03581661649100576\n",
      "sex_upon_outcome_Neutered Male : 0.03294133588177573\n",
      "intake_year : 0.03130696943699249\n"
     ]
    }
   ],
   "source": [
    "#Perform grid search with 3-fold cross-validation:\n",
    "grid_search_SMOTE = GridSearchCV(estimator=rf, param_grid=param_grid, cv=3)\n",
    "grid_search_SMOTE.fit(X_train_resampled, y_train_resampled)\n",
    "\n",
    "print(\"Best Parameters:\", grid_search_SMOTE.best_params_)\n",
    "print(\"Best Score:\", grid_search_SMOTE.best_score_)\n",
    "\n",
    "# Evaluate the model on the test set:\n",
    "y_pred = grid_search_SMOTE.predict(X_test)\n",
    "accuracy = accuracy_score(y_test, y_pred)\n",
    "print(\"Test Accuracy:\", accuracy)\n",
    "\n",
    "report = classification_report(y_test, y_pred)\n",
    "print('Report: ', '\\n', report)\n",
    "\n",
    "# Plot the confusion matrix\n",
    "disp = plot_confusion_matrix(grid_search_SMOTE, X_test, y_test, cmap=plt.cm.Blues, normalize=None);\n",
    "disp.ax_.set_title(\"Confusion Matrix\")\n",
    "# Add colorbar\n",
    "plt.colorbar(disp.im_, ax=disp.ax_)\n",
    "# Show the plot\n",
    "plt.show()\n",
    "\n",
    "\n",
    "# important features\n",
    "importances = grid_search_SMOTE.best_estimator_.feature_importances_\n",
    "feature_names = X_train_resampled.columns\n",
    "feature_importances = list(zip(feature_names, importances))\n",
    "sorted_importances = sorted(feature_importances, key=lambda x: x[1], reverse=True)\n",
    "top_10_features = sorted_importances[:10]\n",
    "print(\"Top 10 Features with :\")\n",
    "for feature, importance in top_10_features:\n",
    "    print(feature, \":\", importance)\n"
   ]
  },
  {
   "cell_type": "code",
   "execution_count": 321,
   "metadata": {},
   "outputs": [
    {
     "data": {
      "image/png": "[encoded data removed]",
      "text/plain": [
       "<Figure size 432x288 with 1 Axes>"
      ]
     },
     "metadata": {
      "needs_background": "light"
     },
     "output_type": "display_data"
    }
   ],
   "source": [
    "# Collect the performance metrics for each depth value\n",
    "depth_values = []\n",
    "test_scores = []\n",
    "\n",
    "for params, mean_test_score in zip(grid_search_SMOTE.cv_results_['params'],\n",
    "                                                     grid_search_reg.cv_results_['mean_test_score']):\n",
    "    depth_values.append(params['max_depth'])\n",
    "    test_scores.append(mean_test_score)\n",
    "\n",
    "# Plot the results\n",
    "plt.plot(depth_values, test_scores, label='Test Accuracy')\n",
    "plt.xlabel('max_depth')\n",
    "plt.ylabel('Accuracy')\n",
    "plt.title('Performance Metrics for Different max_depth Values for SMOTE feature split')\n",
    "plt.legend()\n",
    "plt.show()"
   ]
  },
  {
   "attachments": {},
   "cell_type": "markdown",
   "metadata": {},
   "source": [
    "#### *Observations for regular split*\n",
    "\n",
    "* Best Score: The best mean cross-validated score achieved during the grid search is 0.8678927951388888 on the training set.\n",
    "\n",
    "* Test Accuracy: The accuracy of the model on the test set is 0.8503734387748698, which suggests the model has generalizes well to unseen data.\n",
    "\n",
    "* Classification Report: The classification report provides precision, recall, and F1-score for each class (0 and 1) along with the support (number of samples) for each class. It gives an overview of the model's performance in terms of different metrics.\n",
    "\n",
    "* Top 10 Features: The list of top 10 important features and their corresponding importances is provided. These features indicate which variables have the most influence on the model's predictions. For example, time_in_shelter_days is the most important feature with an importance of 0.3597320903161585."
   ]
  }
 ],
 "metadata": {
  "kernelspec": {
   "display_name": "Python 3",
   "language": "python",
   "name": "python3"
  },
  "language_info": {
   "codemirror_mode": {
    "name": "ipython",
    "version": 3
   },
   "file_extension": ".py",
   "mimetype": "text/x-python",
   "name": "python",
   "nbconvert_exporter": "python",
   "pygments_lexer": "ipython3",
   "version": "3.9.13"
  }
 },
 "nbformat": 4,
 "nbformat_minor": 4
}
